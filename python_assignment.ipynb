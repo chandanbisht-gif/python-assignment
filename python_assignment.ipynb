{
 "cells": [
  {
   "cell_type": "markdown",
   "id": "aa4ed5bf",
   "metadata": {},
   "source": [
    "### What is Python, and why is it popular\n",
    "Python is a high-level, interpreted programming language known for its simple syntax, readability, and large community support. It is popular because it is versatile, supports multiple programming paradigms, has extensive libraries, and is used in web development, data science, automation, AI, and more."
   ]
  },
  {
   "cell_type": "markdown",
   "id": "8668025f",
   "metadata": {},
   "source": [
    "### What is an interpreter in Python\n",
    "An interpreter in Python is a program that executes Python code line-by-line, converting it into machine code at runtime. Examples include CPython, PyPy, and Jython."
   ]
  },
  {
   "cell_type": "markdown",
   "id": "29fe7972",
   "metadata": {},
   "source": [
    "### What are pre-defined keywords in Python\n",
    "Pre-defined keywords are reserved words in Python that have special meaning and cannot be used as variable names. Examples: if, else, while, for, True, False, None, etc."
   ]
  },
  {
   "cell_type": "markdown",
   "id": "d4af3927",
   "metadata": {},
   "source": [
    "### Can keywords be used as variable names\n",
    "No, keywords cannot be used as variable names because they have predefined meanings in the Python language."
   ]
  },
  {
   "cell_type": "markdown",
   "id": "82e29681",
   "metadata": {},
   "source": [
    "### What is mutability in Python\n",
    "Mutability refers to the ability of an object to be changed after creation. Mutable objects can be modified in place, while immutable objects cannot."
   ]
  },
  {
   "cell_type": "markdown",
   "id": "e68e10dd",
   "metadata": {},
   "source": [
    "### Why are lists mutable, but tuples are immutable\n",
    "Lists are mutable because they are designed to allow modifications, such as adding, removing, or changing elements. Tuples are immutable to ensure data integrity and allow them to be used as keys in dictionaries."
   ]
  },
  {
   "cell_type": "markdown",
   "id": "7e2a5732",
   "metadata": {},
   "source": [
    "### What is the difference between '==' and 'is' operators in Python\n",
    "'==' compares the values of two objects, while 'is' checks whether two variables point to the same object in memory."
   ]
  },
  {
   "cell_type": "markdown",
   "id": "49b47618",
   "metadata": {},
   "source": [
    "### What are logical operators in Python\n",
    "Logical operators are used to combine conditional statements. Python has three: and, or, not."
   ]
  },
  {
   "cell_type": "markdown",
   "id": "b7e95e9f",
   "metadata": {},
   "source": [
    "### What is type casting in Python\n",
    "Type casting is the process of converting one data type into another, e.g., int('5') converts a string to an integer."
   ]
  },
  {
   "cell_type": "markdown",
   "id": "d9dffba7",
   "metadata": {},
   "source": [
    "### What is the difference between implicit and explicit type casting\n",
    "Implicit casting is done automatically by Python (type promotion), while explicit casting requires the programmer to convert manually using functions like int(), float()."
   ]
  },
  {
   "cell_type": "markdown",
   "id": "6166cbee",
   "metadata": {},
   "source": [
    "### What is the purpose of conditional statements in Python\n",
    "Conditional statements are used to execute code blocks only if certain conditions are met."
   ]
  },
  {
   "cell_type": "markdown",
   "id": "22c95ca3",
   "metadata": {},
   "source": [
    "### How does the elif statement work\n",
    "The elif statement lets you check multiple conditions one after another, executing the first block where the condition is true."
   ]
  },
  {
   "cell_type": "markdown",
   "id": "5a8e895e",
   "metadata": {},
   "source": [
    "### What is the difference between for and while loops\n",
    "A for loop iterates over a sequence for a fixed number of times, while a while loop runs as long as a condition is true."
   ]
  },
  {
   "cell_type": "markdown",
   "id": "b2ae5ef8",
   "metadata": {},
   "source": [
    "### Describe a scenario where a while loop is more suitable than a for loop.\n",
    "A while loop is more suitable when the number of iterations is not known beforehand, such as reading input until the user types 'exit'."
   ]
  },
  {
   "cell_type": "markdown",
   "id": "a5e9d46a",
   "metadata": {},
   "source": [
    "### Print 'Hello, World!'"
   ]
  },
  {
   "cell_type": "code",
   "execution_count": null,
   "id": "dc1a7ff2",
   "metadata": {},
   "outputs": [],
   "source": [
    "print(\"Hello, World!\")"
   ]
  },
  {
   "cell_type": "markdown",
   "id": "e7a3c61b",
   "metadata": {},
   "source": [
    "### Display your name and age"
   ]
  },
  {
   "cell_type": "code",
   "execution_count": null,
   "id": "ccc869ed",
   "metadata": {},
   "outputs": [],
   "source": [
    "name = \"John Doe\"\n",
    "age = 21\n",
    "print(f\"My name is {name} and I am {age} years old.\")"
   ]
  },
  {
   "cell_type": "markdown",
   "id": "37c5b61c",
   "metadata": {},
   "source": [
    "### Print all pre-defined keywords"
   ]
  },
  {
   "cell_type": "code",
   "execution_count": null,
   "id": "3ad2702b",
   "metadata": {},
   "outputs": [],
   "source": [
    "import keyword\n",
    "print(keyword.kwlist)"
   ]
  },
  {
   "cell_type": "markdown",
   "id": "a50203b4",
   "metadata": {},
   "source": [
    "### Check if a word is a Python keyword"
   ]
  },
  {
   "cell_type": "code",
   "execution_count": null,
   "id": "58bf6f22",
   "metadata": {},
   "outputs": [],
   "source": [
    "import keyword\n",
    "word = input(\"Enter a word: \")\n",
    "print(f\"{word} is a keyword: {keyword.iskeyword(word)}\")"
   ]
  },
  {
   "cell_type": "markdown",
   "id": "2835ba81",
   "metadata": {},
   "source": [
    "### Demonstrate mutable and immutable arguments"
   ]
  },
  {
   "cell_type": "code",
   "execution_count": null,
   "id": "5d6c6486",
   "metadata": {},
   "outputs": [],
   "source": [
    "def modify_list(lst):\n",
    "    lst.append(4)\n",
    "\n",
    "def modify_number(num):\n",
    "    num += 5\n",
    "\n",
    "my_list = [1, 2, 3]\n",
    "my_num = 10\n",
    "modify_list(my_list)\n",
    "modify_number(my_num)\n",
    "print(\"List after modification:\", my_list)\n",
    "print(\"Number after modification:\", my_num)"
   ]
  },
  {
   "cell_type": "markdown",
   "id": "008e37ea",
   "metadata": {},
   "source": [
    "### Basic arithmetic operations"
   ]
  },
  {
   "cell_type": "code",
   "execution_count": null,
   "id": "76105d2f",
   "metadata": {},
   "outputs": [],
   "source": [
    "a = float(input(\"Enter first number: \"))\n",
    "b = float(input(\"Enter second number: \"))\n",
    "print(\"Addition:\", a+b)\n",
    "print(\"Subtraction:\", a-b)\n",
    "print(\"Multiplication:\", a*b)\n",
    "print(\"Division:\", a/b)"
   ]
  },
  {
   "cell_type": "markdown",
   "id": "3573f962",
   "metadata": {},
   "source": [
    "### Demonstrate logical operators"
   ]
  },
  {
   "cell_type": "code",
   "execution_count": null,
   "id": "c3771c0b",
   "metadata": {},
   "outputs": [],
   "source": [
    "x = True\n",
    "y = False\n",
    "print(\"x and y:\", x and y)\n",
    "print(\"x or y:\", x or y)\n",
    "print(\"not x:\", not x)"
   ]
  },
  {
   "cell_type": "markdown",
   "id": "5e6ab6d8",
   "metadata": {},
   "source": [
    "### List vs Tuple mutability"
   ]
  },
  {
   "cell_type": "code",
   "execution_count": null,
   "id": "ad6eb8b9",
   "metadata": {},
   "outputs": [],
   "source": [
    "my_list = [1, 2, 3]\n",
    "my_tuple = (1, 2, 3)\n",
    "my_list[0] = 10\n",
    "print(\"Modified list:\", my_list)\n",
    "try:\n",
    "    my_tuple[0] = 10\n",
    "except TypeError as e:\n",
    "    print(\"Error modifying tuple:\", e)"
   ]
  },
  {
   "cell_type": "markdown",
   "id": "8f564264",
   "metadata": {},
   "source": [
    "### Convert user input to int, float, bool"
   ]
  },
  {
   "cell_type": "code",
   "execution_count": null,
   "id": "1f7b9cc2",
   "metadata": {},
   "outputs": [],
   "source": [
    "s = input(\"Enter a value: \")\n",
    "print(int(s), float(s), bool(s))"
   ]
  },
  {
   "cell_type": "markdown",
   "id": "f9ca7247",
   "metadata": {},
   "source": [
    "### Type casting list elements"
   ]
  },
  {
   "cell_type": "code",
   "execution_count": null,
   "id": "c343bc82",
   "metadata": {},
   "outputs": [],
   "source": [
    "str_list = [\"1\", \"2\", \"3\"]\n",
    "int_list = list(map(int, str_list))\n",
    "print(int_list)"
   ]
  },
  {
   "cell_type": "markdown",
   "id": "e28fbb3f",
   "metadata": {},
   "source": [
    "### Check if number is positive, negative, or zero"
   ]
  },
  {
   "cell_type": "code",
   "execution_count": null,
   "id": "c0d005af",
   "metadata": {},
   "outputs": [],
   "source": [
    "num = float(input(\"Enter a number: \"))\n",
    "if num > 0:\n",
    "    print(\"Positive\")\n",
    "elif num < 0:\n",
    "    print(\"Negative\")\n",
    "else:\n",
    "    print(\"Zero\")"
   ]
  },
  {
   "cell_type": "markdown",
   "id": "7826db23",
   "metadata": {},
   "source": [
    "### For loop 1 to 10"
   ]
  },
  {
   "cell_type": "code",
   "execution_count": null,
   "id": "6aaee13b",
   "metadata": {},
   "outputs": [],
   "source": [
    "for i in range(1, 11):\n",
    "    print(i)"
   ]
  },
  {
   "cell_type": "markdown",
   "id": "bd0d25a5",
   "metadata": {},
   "source": [
    "### Sum of even numbers 1 to 50"
   ]
  },
  {
   "cell_type": "code",
   "execution_count": null,
   "id": "07ff8be1",
   "metadata": {},
   "outputs": [],
   "source": [
    "total = sum(i for i in range(1, 51) if i % 2 == 0)\n",
    "print(total)"
   ]
  },
  {
   "cell_type": "markdown",
   "id": "2dc0005a",
   "metadata": {},
   "source": [
    "### Reverse a string using while loop"
   ]
  },
  {
   "cell_type": "code",
   "execution_count": null,
   "id": "eb4dd793",
   "metadata": {},
   "outputs": [],
   "source": [
    "s = input(\"Enter a string: \")\n",
    "reversed_s = \"\"\n",
    "i = len(s) - 1\n",
    "while i >= 0:\n",
    "    reversed_s += s[i]\n",
    "    i -= 1\n",
    "print(reversed_s)"
   ]
  },
  {
   "cell_type": "markdown",
   "id": "9216cb23",
   "metadata": {},
   "source": [
    "### Factorial using while loop"
   ]
  },
  {
   "cell_type": "code",
   "execution_count": null,
   "id": "647c5d35",
   "metadata": {},
   "outputs": [],
   "source": [
    "n = int(input(\"Enter a number: \"))\n",
    "fact = 1\n",
    "i = 1\n",
    "while i <= n:\n",
    "    fact *= i\n",
    "    i += 1\n",
    "print(f\"Factorial of {n} is {fact}\")"
   ]
  }
 ],
 "metadata": {},
 "nbformat": 4,
 "nbformat_minor": 5
}